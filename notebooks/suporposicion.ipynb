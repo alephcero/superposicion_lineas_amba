{
 "cells": [
  {
   "cell_type": "code",
   "execution_count": null,
   "id": "appointed-seattle",
   "metadata": {},
   "outputs": [],
   "source": [
    "import geopandas as gpd\n",
    "import folium\n",
    "import mapclassify as mc\n",
    "from shapely.geometry import LineString, MultiLineString\n",
    "import numpy as np"
   ]
  },
  {
   "cell_type": "code",
   "execution_count": null,
   "id": "d5bce127",
   "metadata": {},
   "outputs": [],
   "source": [
    "# criterio lineas o ramales\n",
    "criterio = 'lineas'"
   ]
  },
  {
   "cell_type": "code",
   "execution_count": null,
   "id": "healthy-theology",
   "metadata": {},
   "outputs": [],
   "source": [
    "# Leer las grillas y las lineas nacionales\n",
    "grilla = gpd.read_file('../carto/grilla.zip')\n",
    "\n",
    "lineas = gpd.read_file('../carto/lineas-nacionales.zip')\n",
    "lineas = lineas.loc[lineas.SENTIDO == 'IDA',['ID','LINEA','RAMAL','geometry']]\n",
    "#lineas.to_file('../carto/lineas_nacionales.geojson',driver='GeoJSON')"
   ]
  },
  {
   "cell_type": "code",
   "execution_count": null,
   "id": "f4b4651c",
   "metadata": {},
   "outputs": [],
   "source": [
    "conteo_x_grilla = gpd.sjoin(grilla,lineas,how='inner',predicate='intersects')\n",
    "conteo_x_grilla = conteo_x_grilla.reindex(columns = ['id','geometry','LINEA'])\n",
    "\n",
    "if criterio == 'lineas':\n",
    "    conteo_x_grilla = conteo_x_grilla.drop_duplicates(subset=['id','LINEA'])\n",
    "    \n",
    "conteo_x_grilla = conteo_x_grilla.groupby('id',as_index=False).size()\n",
    "conteo_x_grilla = grilla.merge(conteo_x_grilla)\n",
    "\n",
    "# Obtener para cada grilla cuantos ramales-lineas pasan\n",
    "conteo_x_grilla = conteo_x_grilla.rename(columns = {'size':'conteo'})\n",
    "\n",
    "conteo_x_grilla.to_file(f'../carto/{criterio}_x_grilla.geojson',driver='GeoJSON')\n"
   ]
  },
  {
   "cell_type": "code",
   "execution_count": null,
   "id": "c658f106",
   "metadata": {},
   "outputs": [],
   "source": [
    "# Agrupar las grillas en cantidad de gramales segun Fisher Jenks\n",
    "fj = mc.FisherJenks(conteo_x_grilla.conteo)\n",
    "bins = fj.bins\n",
    "bins = [0] + list(bins)\n",
    "bins[-1] = bins[-1]+1\n"
   ]
  },
  {
   "cell_type": "code",
   "execution_count": null,
   "id": "wanted-obligation",
   "metadata": {},
   "outputs": [],
   "source": [
    "m = folium.Map(location=[-34.55412,-58.41287], zoom_start=11,tiles='cartodbpositron')\n",
    "\n",
    "def style_function(feature):\n",
    "    return {\n",
    "        \"weight\": 1,\n",
    "        \"opacity\": 0.4,\n",
    "        \"color\": 'red',\n",
    "    }\n",
    "\n",
    "folium.GeoJson('../carto/lineas_nacionales.geojson',\n",
    "               name=\"Lineas Nacionales\",\n",
    "               style_function= style_function).add_to(m)\n",
    "\n",
    "    \n",
    "c = folium.Choropleth(\n",
    "    geo_data=conteo_x_grilla,\n",
    "    name=f\"Cantidad de {criterio} por grilla\",\n",
    "    data=conteo_x_grilla,\n",
    "    columns=[\"id\", \"conteo\"],\n",
    "    key_on=\"feature.properties.id\",\n",
    "    fill_color=\"Greys\",\n",
    "    fill_opacity=0.7,\n",
    "    line_opacity=0.1,\n",
    "    legend_name=f\"{criterio} por grilla\",\n",
    "    bins = bins,\n",
    "    reset=True,\n",
    ").add_to(m)\n",
    "\n",
    "folium.LayerControl().add_to(m)\n",
    "if criterio == 'lineas':\n",
    "    m.save('../index.html')\n",
    "m.save(f'../{criterio}.html')\n",
    "m"
   ]
  },
  {
   "cell_type": "code",
   "execution_count": null,
   "id": "f414e84b",
   "metadata": {},
   "outputs": [],
   "source": []
  },
  {
   "cell_type": "code",
   "execution_count": null,
   "id": "c5614b46",
   "metadata": {},
   "outputs": [],
   "source": []
  }
 ],
 "metadata": {
  "kernelspec": {
   "display_name": "bondis",
   "language": "python",
   "name": "bondis"
  },
  "language_info": {
   "codemirror_mode": {
    "name": "ipython",
    "version": 3
   },
   "file_extension": ".py",
   "mimetype": "text/x-python",
   "name": "python",
   "nbconvert_exporter": "python",
   "pygments_lexer": "ipython3",
   "version": "3.8.10"
  }
 },
 "nbformat": 4,
 "nbformat_minor": 5
}
